{
 "metadata": {
  "language_info": {
   "codemirror_mode": {
    "name": "ipython",
    "version": 3
   },
   "file_extension": ".py",
   "mimetype": "text/x-python",
   "name": "python",
   "nbconvert_exporter": "python",
   "pygments_lexer": "ipython3",
   "version": "3.8.0"
  },
  "orig_nbformat": 2,
  "kernelspec": {
   "name": "python38064bititispipenv7de01288d54148dab9ee666a16e79d0f",
   "display_name": "Python 3.8.0 64-bit ('ITIS': pipenv)",
   "language": "python"
  }
 },
 "nbformat": 4,
 "nbformat_minor": 2,
 "cells": [
  {
   "source": [
    "# Лабораторная работа №7\n",
    "## Исследование рекуррентной нейронной сети Хопфилда на примере задачи распознавания образов"
   ],
   "cell_type": "markdown",
   "metadata": {}
  },
  {
   "cell_type": "code",
   "execution_count": 15,
   "metadata": {},
   "outputs": [],
   "source": [
    "import numpy as np\n",
    "import matplotlib.pyplot as plt\n",
    "\n",
    "from itertools import chain"
   ]
  },
  {
   "cell_type": "code",
   "execution_count": 8,
   "metadata": {},
   "outputs": [],
   "source": [
    "# Функционирование в синхронном режиме\n",
    "f = lambda net: net\n",
    "netF = lambda W, Y, k: sum(w * y for idx, (w, y) in enumerate(zip(W, Y)) if idx != k)\n",
    "actF = lambda net: 1 if net > 0 else (-1 if net < 0 else f(net))"
   ]
  },
  {
   "cell_type": "code",
   "execution_count": 28,
   "metadata": {},
   "outputs": [
    {
     "output_type": "execute_result",
     "data": {
      "text/plain": [
       "(array([-1,  1,  1,  1,  1,  1, -1,  1, -1, -1, -1,  1,  1,  1,  1]),\n",
       " array([ 1, -1, -1, -1,  1,  1,  1,  1,  1,  1,  1, -1, -1, -1,  1]),\n",
       " array([ 1,  1,  1,  1,  1,  1, -1,  1, -1, -1,  1, -1, -1, -1, -1]))"
      ]
     },
     "metadata": {},
     "execution_count": 28
    }
   ],
   "source": [
    "# Образы согласно варианту\n",
    "A = [\n",
    "    [-1,  1, -1],\n",
    "    [ 1, -1,  1],\n",
    "    [ 1,  1,  1],\n",
    "    [ 1, -1,  1],\n",
    "    [ 1, -1,  1]\n",
    "]\n",
    "\n",
    "I = [\n",
    "    [ 1,  1,  1],\n",
    "    [-1,  1, -1],\n",
    "    [-1,  1, -1],\n",
    "    [-1,  1, -1],\n",
    "    [ 1,  1,  1]\n",
    "]\n",
    "\n",
    "F = [\n",
    "    [ 1,  1,  1],\n",
    "    [ 1, -1, -1],\n",
    "    [ 1,  1, -1],\n",
    "    [ 1, -1, -1],\n",
    "    [ 1, -1, -1]\n",
    "]\n",
    "\n",
    "# Векторизуем\n",
    "A, I, F = [\n",
    "    np.fromiter(\n",
    "        chain(*np.transpose(img)),\n",
    "        dtype=int\n",
    "    ) for img in [A, I, F]\n",
    "]\n",
    "\n",
    "# Вывод\n",
    "A, I, F"
   ]
  },
  {
   "cell_type": "code",
   "execution_count": 42,
   "metadata": {},
   "outputs": [
    {
     "output_type": "execute_result",
     "data": {
      "text/plain": [
       "array([[ 0, -1, -1, -1,  1,  1,  1,  1,  1,  1,  3, -3, -3, -3, -1],\n",
       "       [-1,  0,  3,  3,  1,  1, -3,  1, -3, -3, -1,  1,  1,  1, -1],\n",
       "       [-1,  3,  0,  3,  1,  1, -3,  1, -3, -3, -1,  1,  1,  1, -1],\n",
       "       [-1,  3,  3,  0,  1,  1, -3,  1, -3, -3, -1,  1,  1,  1, -1],\n",
       "       [ 1,  1,  1,  1,  0,  3, -1,  3, -1, -1,  1, -1, -1, -1,  1],\n",
       "       [ 1,  1,  1,  1,  3,  0, -1,  3, -1, -1,  1, -1, -1, -1,  1],\n",
       "       [ 1, -3, -3, -3, -1, -1,  0, -1,  3,  3,  1, -1, -1, -1,  1],\n",
       "       [ 1,  1,  1,  1,  3,  3, -1,  0, -1, -1,  1, -1, -1, -1,  1],\n",
       "       [ 1, -3, -3, -3, -1, -1,  3, -1,  0,  3,  1, -1, -1, -1,  1],\n",
       "       [ 1, -3, -3, -3, -1, -1,  3, -1,  3,  0,  1, -1, -1, -1,  1],\n",
       "       [ 3, -1, -1, -1,  1,  1,  1,  1,  1,  1,  0, -3, -3, -3, -1],\n",
       "       [-3,  1,  1,  1, -1, -1, -1, -1, -1, -1, -3,  0,  3,  3,  1],\n",
       "       [-3,  1,  1,  1, -1, -1, -1, -1, -1, -1, -3,  3,  0,  3,  1],\n",
       "       [-3,  1,  1,  1, -1, -1, -1, -1, -1, -1, -3,  3,  3,  0,  1],\n",
       "       [-1, -1, -1, -1,  1,  1,  1,  1,  1,  1, -1,  1,  1,  1,  0]])"
      ]
     },
     "metadata": {},
     "execution_count": 42
    }
   ],
   "source": [
    "def create(imgs):\n",
    "    # Начальные веса как векторная сумма матричных произведений образов на транспонированных себя же\n",
    "    W = sum(np.dot(np.transpose([img]), [img]) for img in imgs)\n",
    "\n",
    "    # Зануляем диагональ\n",
    "    np.fill_diagonal(W, 0)\n",
    "\n",
    "    return W, imgs\n",
    "\n",
    "def operate(W, Y, img):\n",
    "    \n",
    "\n",
    "create([A, I, F])"
   ]
  },
  {
   "cell_type": "code",
   "execution_count": 14,
   "metadata": {},
   "outputs": [
    {
     "output_type": "execute_result",
     "data": {
      "text/plain": [
       "[[10, 13], [22, 29]]"
      ]
     },
     "metadata": {},
     "execution_count": 14
    }
   ],
   "source": [
    "a = [\n",
    "    [1, 2],\n",
    "    [3, 4]\n",
    "]\n",
    "b = [\n",
    "    [2, 3],\n",
    "    [4, 5]\n",
    "]\n",
    "dot(a, b)"
   ]
  },
  {
   "cell_type": "code",
   "execution_count": null,
   "metadata": {},
   "outputs": [],
   "source": []
  }
 ]
}