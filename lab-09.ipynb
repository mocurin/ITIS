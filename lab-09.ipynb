{
 "metadata": {
  "language_info": {
   "codemirror_mode": {
    "name": "ipython",
    "version": 3
   },
   "file_extension": ".py",
   "mimetype": "text/x-python",
   "name": "python",
   "nbconvert_exporter": "python",
   "pygments_lexer": "ipython3",
   "version": "3.8.0"
  },
  "orig_nbformat": 2,
  "kernelspec": {
   "name": "python38064bititispipenv7de01288d54148dab9ee666a16e79d0f",
   "display_name": "Python 3.8.0 64-bit ('ITIS': pipenv)"
  },
  "metadata": {
   "interpreter": {
    "hash": "c7c45d3b6503cec90a3dd7c710bab375e5dca1f1afa63155a95467609e853a2c"
   }
  }
 },
 "nbformat": 4,
 "nbformat_minor": 2,
 "cells": [
  {
   "source": [
    "# Лабораторная работа No 9\n",
    "## Алгоритмы кластерного анализа данных"
   ],
   "cell_type": "markdown",
   "metadata": {}
  },
  {
   "cell_type": "code",
   "execution_count": 41,
   "metadata": {},
   "outputs": [],
   "source": [
    "import json\n",
    "import numpy as np\n",
    "\n",
    "from collections import Counter\n",
    "\n",
    "\n",
    "DATASET = 'data_546.json'"
   ]
  },
  {
   "source": [
    "Исследуем полученные данные"
   ],
   "cell_type": "markdown",
   "metadata": {}
  },
  {
   "cell_type": "code",
   "execution_count": 29,
   "metadata": {},
   "outputs": [],
   "source": [
    "with open(DATASET, 'r') as file:\n",
    "    data = json.load(file)\n",
    "\n",
    "# Получаем необходимые данные\n",
    "data = [\n",
    "    [\n",
    "        obj['geometry']['coordinates'],\n",
    "        obj['properties']['Attributes']['name'],\n",
    "        obj['properties']['Attributes']['okrug']\n",
    "    ]\n",
    "    for obj\n",
    "    in data['features']\n",
    "]"
   ]
  },
  {
   "cell_type": "code",
   "execution_count": 30,
   "metadata": {},
   "outputs": [
    {
     "output_type": "display_data",
     "data": {
      "text/plain": "{'Восточный административный округ',\n 'Западный административный округ',\n 'Зеленоградский административный округ',\n 'Северный административный округ',\n 'Северо-Восточный административный округ',\n 'Северо-Западный административный округ',\n 'Центральный административный округ',\n 'Юго-Восточный административный округ',\n 'Юго-Западный административный округ',\n 'Южный',\n 'Южный административный округ'}"
     },
     "metadata": {}
    },
    {
     "output_type": "display_data",
     "data": {
      "text/plain": "{'Восточный административный округ',\n 'Западный административный округ',\n 'Зеленоградский административный округ',\n 'Северный административный округ',\n 'Северо-Восточный административный округ',\n 'Северо-Западный административный округ',\n 'Центральный административный округ',\n 'Юго-Восточный административный округ',\n 'Юго-Западный административный округ',\n 'Южный административный округ'}"
     },
     "metadata": {}
    }
   ],
   "source": [
    "display(set(okrug for _, _, okrug in data))\n",
    "\n",
    "for idx, (_, _, okrug) in enumerate(data):\n",
    "    if okrug == 'Южный':\n",
    "        data[idx][2] = 'Южный административный округ'\n",
    "\n",
    "display(set(okrug for _, _, okrug in data))"
   ]
  },
  {
   "source": [
    "Найдем округа, зайдествованные в выборке"
   ],
   "cell_type": "markdown",
   "metadata": {}
  },
  {
   "cell_type": "code",
   "execution_count": 53,
   "metadata": {},
   "outputs": [
    {
     "output_type": "execute_result",
     "data": {
      "text/plain": [
       "{'Восточный административный округ': [37.786369, 55.796039],\n",
       " 'Западный административный округ': [37.468372, 55.711506],\n",
       " 'Зеленоградский административный округ': [37.194273, 55.989725],\n",
       " 'Северный административный округ': [37.529975, 55.83495],\n",
       " 'Северо-Восточный административный округ': [37.628449, 55.851847],\n",
       " 'Северо-Западный административный округ': [37.433551, 55.821479],\n",
       " 'Центральный административный округ': [37.623374, 55.753576],\n",
       " 'Юго-Восточный административный округ': [37.768235, 55.689028],\n",
       " 'Юго-Западный административный округ': [37.537672, 55.639672],\n",
       " 'Южный административный округ': [37.66113, 55.641486]}"
      ]
     },
     "metadata": {},
     "execution_count": 53
    }
   ],
   "source": [
    "# Данные по округам с википедии и гугл-карт\n",
    "ref = {\n",
    "        'Восточный административный округ': [37.786369, 55.796039],\n",
    "        'Западный административный округ': [37.468372, 55.711506],\n",
    "        'Зеленоградский административный округ': [37.194273, 55.989725],\n",
    "        'Северный административный округ': [37.529975, 55.834950],\n",
    "        'Северо-Восточный административный округ': [37.628449, 55.851847],\n",
    "        'Северо-Западный административный округ': [37.433551, 55.821479],\n",
    "        'Центральный административный округ': [37.623374, 55.753576],\n",
    "        'Юго-Восточный административный округ': [37.768235, 55.689028],\n",
    "        'Юго-Западный административный округ': [37.537672, 55.639672],\n",
    "        'Южный административный округ': [37.661130, 55.641486]\n",
    "}\n",
    "\n",
    "ref"
   ]
  },
  {
   "cell_type": "code",
   "execution_count": 47,
   "metadata": {},
   "outputs": [],
   "source": [
    "# Евклидово расстояние\n",
    "def distance(X, Y):\n",
    "    x1, y1 = X\n",
    "    x2, y2 = Y\n",
    "    return ((x1 - x2) ** 2 + (y1 - y2) ** 2) ** 0.5\n",
    "\n",
    "# Процесс работы НС Кохонена\n",
    "def clusterize(Xs, Ys):\n",
    "    clusters = [list() for _, name in Ys]\n",
    "    for idx, X in enumerate(Xs):\n",
    "        distances = [distance(X, Y) for Y, _ in Ys]\n",
    "        min_idx = np.argmin(distances)\n",
    "        clusters[min_idx].append((idx, X))\n",
    "    return clusters"
   ]
  },
  {
   "cell_type": "code",
   "execution_count": 59,
   "metadata": {
    "tags": []
   },
   "outputs": [
    {
     "output_type": "stream",
     "name": "stdout",
     "text": [
      "Site: Восточный административный округ\n"
     ]
    },
    {
     "output_type": "display_data",
     "data": {
      "text/plain": "Counter({'Восточный административный округ': 31,\n         'Центральный административный округ': 4})"
     },
     "metadata": {}
    },
    {
     "output_type": "stream",
     "name": "stdout",
     "text": [
      "Site: Западный административный округ\n"
     ]
    },
    {
     "output_type": "display_data",
     "data": {
      "text/plain": "Counter({'Западный административный округ': 19})"
     },
     "metadata": {}
    },
    {
     "output_type": "stream",
     "name": "stdout",
     "text": [
      "Site: Зеленоградский административный округ\n"
     ]
    },
    {
     "output_type": "display_data",
     "data": {
      "text/plain": "Counter({'Зеленоградский административный округ': 1})"
     },
     "metadata": {}
    },
    {
     "output_type": "stream",
     "name": "stdout",
     "text": [
      "Site: Северный административный округ\n"
     ]
    },
    {
     "output_type": "display_data",
     "data": {
      "text/plain": "Counter({'Северный административный округ': 42,\n         'Северо-Восточный административный округ': 3,\n         'Северо-Западный административный округ': 2,\n         'Зеленоградский административный округ': 1,\n         'Центральный административный округ': 1})"
     },
     "metadata": {}
    },
    {
     "output_type": "stream",
     "name": "stdout",
     "text": [
      "Site: Северо-Восточный административный округ\n"
     ]
    },
    {
     "output_type": "display_data",
     "data": {
      "text/plain": "Counter({'Северо-Восточный административный округ': 20,\n         'Восточный административный округ': 2})"
     },
     "metadata": {}
    },
    {
     "output_type": "stream",
     "name": "stdout",
     "text": [
      "Site: Северо-Западный административный округ\n"
     ]
    },
    {
     "output_type": "display_data",
     "data": {
      "text/plain": "Counter({'Северо-Западный административный округ': 12})"
     },
     "metadata": {}
    },
    {
     "output_type": "stream",
     "name": "stdout",
     "text": [
      "Site: Центральный административный округ\n"
     ]
    },
    {
     "output_type": "display_data",
     "data": {
      "text/plain": "Counter({'Юго-Восточный административный округ': 5,\n         'Южный административный округ': 14,\n         'Центральный административный округ': 40,\n         'Северный административный округ': 7,\n         'Северо-Восточный административный округ': 1,\n         'Восточный административный округ': 1,\n         'Юго-Западный административный округ': 1})"
     },
     "metadata": {}
    },
    {
     "output_type": "stream",
     "name": "stdout",
     "text": [
      "Site: Юго-Восточный административный округ\n"
     ]
    },
    {
     "output_type": "display_data",
     "data": {
      "text/plain": "Counter({'Юго-Восточный административный округ': 32,\n         'Центральный административный округ': 2})"
     },
     "metadata": {}
    },
    {
     "output_type": "stream",
     "name": "stdout",
     "text": [
      "Site: Юго-Западный административный округ\n"
     ]
    },
    {
     "output_type": "display_data",
     "data": {
      "text/plain": "Counter({'Юго-Западный административный округ': 12})"
     },
     "metadata": {}
    },
    {
     "output_type": "stream",
     "name": "stdout",
     "text": [
      "Site: Южный административный округ\n"
     ]
    },
    {
     "output_type": "display_data",
     "data": {
      "text/plain": "Counter({'Южный административный округ': 20,\n         'Юго-Восточный административный округ': 7,\n         'Северный административный округ': 3,\n         'Юго-Западный административный округ': 2})"
     },
     "metadata": {}
    },
    {
     "output_type": "stream",
     "name": "stdout",
     "text": [
      "Всего: 285 объектов\nВерно кластеризованы: 229\nНеверно кластеризованы: 56\nПроцент верно кластеризованных: 80.35%\nПроцент неверно кластеризованных: 19.65%\n"
     ]
    }
   ],
   "source": [
    "# Организуем данные\n",
    "Xs = [point for point, _, _ in data]\n",
    "Ys = [[point, name] for name, point in ref.items()]\n",
    "\n",
    "# Кластеризация\n",
    "clusters = clusterize(Xs, Ys)\n",
    "\n",
    "# Счетчики для числа угаданных и неугаданных объектов\n",
    "T, F = 0, 0\n",
    "for idx, cluster in enumerate(clusters):\n",
    "    # Извлекаем название округа\n",
    "    _, name = Ys[idx]\n",
    "\n",
    "    # Выводим распеределение по округам\n",
    "    print(f\"Site: {name}\")\n",
    "    c = Counter(data[jdx][2] for jdx, point in cluster)\n",
    "    display(c)\n",
    "\n",
    "    # Записываем число угаданных и неугаданных объектов\n",
    "    t = c[name]\n",
    "    f = sum(c.values()) - t\n",
    "    T += t\n",
    "    F += f\n",
    "\n",
    "print(f\"Всего: {T + F} объектов\")\n",
    "print(f\"Верно кластеризованы: {T}\")\n",
    "print(f\"Неверно кластеризованы: {F}\")\n",
    "print(f\"Процент верно кластеризованных: {T/(F + T) * 100:.2f}%\")\n",
    "print(f\"Процент неверно кластеризованных: {F/(F + T) * 100:.2f}%\")"
   ]
  }
 ]
}