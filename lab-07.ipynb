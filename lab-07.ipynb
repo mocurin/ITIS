{
 "metadata": {
  "language_info": {
   "codemirror_mode": {
    "name": "ipython",
    "version": 3
   },
   "file_extension": ".py",
   "mimetype": "text/x-python",
   "name": "python",
   "nbconvert_exporter": "python",
   "pygments_lexer": "ipython3",
   "version": "3.8.0"
  },
  "orig_nbformat": 2,
  "kernelspec": {
   "name": "python380jvsc74a57bd0c7c45d3b6503cec90a3dd7c710bab375e5dca1f1afa63155a95467609e853a2c",
   "display_name": "Python 3.8.0 64-bit ('ITIS-Q33kRsuk': pipenv)"
  },
  "metadata": {
   "interpreter": {
    "hash": "c7c45d3b6503cec90a3dd7c710bab375e5dca1f1afa63155a95467609e853a2c"
   }
  }
 },
 "nbformat": 4,
 "nbformat_minor": 2,
 "cells": [
  {
   "source": [
    "# Лабораторная работа №7\n",
    "## Исследование рекуррентной нейронной сети Хопфилда на примере задачи распознавания образов"
   ],
   "cell_type": "markdown",
   "metadata": {}
  },
  {
   "cell_type": "code",
   "execution_count": 11,
   "metadata": {},
   "outputs": [],
   "source": [
    "import numpy as np\n",
    "import matplotlib.pyplot as plt\n",
    "\n",
    "from itertools import chain\n",
    "\n",
    "from enum import IntEnum"
   ]
  },
  {
   "cell_type": "code",
   "execution_count": 12,
   "metadata": {},
   "outputs": [],
   "source": []
  },
  {
   "cell_type": "code",
   "execution_count": 13,
   "metadata": {},
   "outputs": [
    {
     "output_type": "execute_result",
     "data": {
      "text/plain": [
       "(array([-1,  1,  1,  1,  1,  1, -1,  1, -1, -1, -1,  1,  1,  1,  1]),\n",
       " array([ 1, -1, -1, -1,  1,  1,  1,  1,  1,  1,  1, -1, -1, -1,  1]),\n",
       " array([ 1,  1,  1,  1,  1,  1, -1,  1, -1, -1,  1, -1, -1, -1, -1]))"
      ]
     },
     "metadata": {},
     "execution_count": 13
    }
   ],
   "source": [
    "# Образы согласно варианту\n",
    "A = [\n",
    "    [-1,  1, -1],\n",
    "    [ 1, -1,  1],\n",
    "    [ 1,  1,  1],\n",
    "    [ 1, -1,  1],\n",
    "    [ 1, -1,  1]\n",
    "]\n",
    "\n",
    "I = [\n",
    "    [ 1,  1,  1],\n",
    "    [-1,  1, -1],\n",
    "    [-1,  1, -1],\n",
    "    [-1,  1, -1],\n",
    "    [ 1,  1,  1]\n",
    "]\n",
    "\n",
    "F = [\n",
    "    [ 1,  1,  1],\n",
    "    [ 1, -1, -1],\n",
    "    [ 1,  1, -1],\n",
    "    [ 1, -1, -1],\n",
    "    [ 1, -1, -1]\n",
    "]\n",
    "\n",
    "# Векторизуем\n",
    "A, I, F = [\n",
    "    np.fromiter(\n",
    "        chain(*np.transpose(img)),\n",
    "        dtype=int\n",
    "    ) for img in [A, I, F]\n",
    "]\n",
    "\n",
    "# Вывод\n",
    "A, I, F"
   ]
  },
  {
   "cell_type": "code",
   "execution_count": 23,
   "metadata": {},
   "outputs": [],
   "source": [
    "def img_to_str(img):\n",
    "    return ''.join(str(elem) for elem in img)\n",
    "\n",
    "def create(imgs):\n",
    "    # Начальные веса как векторная сумма матричных произведений образов на транспонированных себя же\n",
    "    W = sum(np.dot(np.transpose([img]), [img]) for img in imgs)\n",
    "\n",
    "    # Зануляем диагональ\n",
    "    np.fill_diagonal(W, 0)\n",
    "\n",
    "    return W\n",
    "\n",
    "\n",
    "class StopState(IntEnum):\n",
    "    NONE = 0\n",
    "    LAST = 1\n",
    "    ASYNC = 2\n",
    "    SYNC = 3\n",
    "\n",
    "def stopper(imgs):\n",
    "    imgs = [img_to_str(im) for im in imgs]\n",
    "\n",
    "    def _stopper(Y):\n",
    "        sY = [img_to_str(y) for y in Y]\n",
    "\n",
    "        # Проверяем совпадение с одним из образов\n",
    "        if any(sY[-1] == im for im in imgs):\n",
    "            return StopState.LAST\n",
    "        \n",
    "        # Проверяем зацикленность для асинхронного режима\n",
    "        if len(Y) > 1 and sY[-1] == sY[-2]:\n",
    "            return StopState.ASYNC\n",
    "\n",
    "        # Проверяем зацикленность для синхронного режима\n",
    "        if len(Y) > 3 and sY[-1] == sY[-3] and sY[-2] == sY[-4]:\n",
    "            return StopState.SYNC\n",
    "        \n",
    "        return StopState.NONE\n",
    "    \n",
    "    return _stopper\n",
    "\n",
    "\n",
    "def operate(W, imgs, img):\n",
    "    stop = stopper(imgs)\n",
    "\n",
    "    Y = [img]\n",
    "    while True:\n",
    "        state = stop(Y)\n",
    "        if state != StopState.NONE:\n",
    "            return Y, state\n",
    "\n",
    "        Net = np.dot(W, Y[-1])\n",
    "\n",
    "        y = [actF(net, i) for net, i in zip(Net, Y[-1])]\n",
    "        Y.append(y)\n"
   ]
  },
  {
   "cell_type": "code",
   "execution_count": 25,
   "metadata": {},
   "outputs": [
    {
     "output_type": "stream",
     "name": "stdout",
     "text": [
      "Образ:     [-1  1  1  1  1  1 -1  1 -1 -1 -1  1  1  1  1]\nРезультат: [-1  1  1  1  1  1 -1  1 -1 -1 -1  1  1  1  1], 1\nОбраз:     [ 1 -1 -1 -1  1  1  1  1  1  1  1 -1 -1 -1  1]\nРезультат: [ 1 -1 -1 -1  1  1  1  1  1  1  1 -1 -1 -1  1], 1\nОбраз:     [ 1  1  1  1  1  1 -1  1 -1 -1  1 -1 -1 -1 -1]\nРезультат: [ 1  1  1  1  1  1 -1  1 -1 -1  1 -1 -1 -1 -1], 1\n"
     ]
    }
   ],
   "source": [
    "imgs = [A, I, F]\n",
    "\n",
    "W = create(imgs)\n",
    "\n",
    "for img in imgs:\n",
    "    print(f\"Образ:     {np.array(img)}\")\n",
    "    Y, state = operate(W, imgs, img)\n",
    "    print(f\"Результат: {Y[-1]}, {state}\")"
   ]
  },
  {
   "cell_type": "code",
   "execution_count": null,
   "metadata": {},
   "outputs": [],
   "source": []
  }
 ]
}