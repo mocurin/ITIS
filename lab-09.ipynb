{
 "metadata": {
  "language_info": {
   "codemirror_mode": {
    "name": "ipython",
    "version": 3
   },
   "file_extension": ".py",
   "mimetype": "text/x-python",
   "name": "python",
   "nbconvert_exporter": "python",
   "pygments_lexer": "ipython3",
   "version": "3.8.0"
  },
  "orig_nbformat": 2,
  "kernelspec": {
   "name": "python380jvsc74a57bd0c7c45d3b6503cec90a3dd7c710bab375e5dca1f1afa63155a95467609e853a2c",
   "display_name": "Python 3.8.0 64-bit ('ITIS-Q33kRsuk': pipenv)"
  },
  "metadata": {
   "interpreter": {
    "hash": "c7c45d3b6503cec90a3dd7c710bab375e5dca1f1afa63155a95467609e853a2c"
   }
  }
 },
 "nbformat": 4,
 "nbformat_minor": 2,
 "cells": [
  {
   "source": [
    "# Лабораторная работа No 9\n",
    "## Алгоритмы кластерного анализа данных"
   ],
   "cell_type": "markdown",
   "metadata": {}
  },
  {
   "cell_type": "code",
   "execution_count": 2,
   "metadata": {},
   "outputs": [],
   "source": [
    "import pandas as pd\n",
    "\n",
    "# pd.set_option('display.max_rows', None)"
   ]
  },
  {
   "source": [
    "Исследуем полученные данные"
   ],
   "cell_type": "markdown",
   "metadata": {}
  },
  {
   "cell_type": "code",
   "execution_count": 23,
   "metadata": {},
   "outputs": [
    {
     "output_type": "execute_result",
     "data": {
      "text/plain": [
       "                                    okrug          X          Y\n",
       "0    Юго-Восточный административный округ  37,850588  55,685852\n",
       "1                                   Южный  37,657122  55,713902\n",
       "2      Центральный административный округ  37,625878   55,73442\n",
       "3            Южный административный округ  37,654086  55,726615\n",
       "4            Южный административный округ  37,695225  55,688223\n",
       "..                                    ...        ...        ...\n",
       "280    Центральный административный округ   37,68165   55,74362\n",
       "281    Центральный административный округ  37,684059  55,736391\n",
       "282    Центральный административный округ  37,684201  55,736755\n",
       "283      Восточный административный округ  37,816595  55,789968\n",
       "284      Восточный административный округ  37,772527   55,75442\n",
       "\n",
       "[285 rows x 3 columns]"
      ],
      "text/html": "<div>\n<style scoped>\n    .dataframe tbody tr th:only-of-type {\n        vertical-align: middle;\n    }\n\n    .dataframe tbody tr th {\n        vertical-align: top;\n    }\n\n    .dataframe thead th {\n        text-align: right;\n    }\n</style>\n<table border=\"1\" class=\"dataframe\">\n  <thead>\n    <tr style=\"text-align: right;\">\n      <th></th>\n      <th>okrug</th>\n      <th>X</th>\n      <th>Y</th>\n    </tr>\n  </thead>\n  <tbody>\n    <tr>\n      <th>0</th>\n      <td>Юго-Восточный административный округ</td>\n      <td>37,850588</td>\n      <td>55,685852</td>\n    </tr>\n    <tr>\n      <th>1</th>\n      <td>Южный</td>\n      <td>37,657122</td>\n      <td>55,713902</td>\n    </tr>\n    <tr>\n      <th>2</th>\n      <td>Центральный административный округ</td>\n      <td>37,625878</td>\n      <td>55,73442</td>\n    </tr>\n    <tr>\n      <th>3</th>\n      <td>Южный административный округ</td>\n      <td>37,654086</td>\n      <td>55,726615</td>\n    </tr>\n    <tr>\n      <th>4</th>\n      <td>Южный административный округ</td>\n      <td>37,695225</td>\n      <td>55,688223</td>\n    </tr>\n    <tr>\n      <th>...</th>\n      <td>...</td>\n      <td>...</td>\n      <td>...</td>\n    </tr>\n    <tr>\n      <th>280</th>\n      <td>Центральный административный округ</td>\n      <td>37,68165</td>\n      <td>55,74362</td>\n    </tr>\n    <tr>\n      <th>281</th>\n      <td>Центральный административный округ</td>\n      <td>37,684059</td>\n      <td>55,736391</td>\n    </tr>\n    <tr>\n      <th>282</th>\n      <td>Центральный административный округ</td>\n      <td>37,684201</td>\n      <td>55,736755</td>\n    </tr>\n    <tr>\n      <th>283</th>\n      <td>Восточный административный округ</td>\n      <td>37,816595</td>\n      <td>55,789968</td>\n    </tr>\n    <tr>\n      <th>284</th>\n      <td>Восточный административный округ</td>\n      <td>37,772527</td>\n      <td>55,75442</td>\n    </tr>\n  </tbody>\n</table>\n<p>285 rows × 3 columns</p>\n</div>"
     },
     "metadata": {},
     "execution_count": 23
    }
   ],
   "source": [
    "df = pd.read_csv('colleges.csv')\n",
    "df = df[['okrug', 'X', 'Y']]\n",
    "df"
   ]
  },
  {
   "source": [
    "Координаты не заданы при помощи float-числа. Приведем типы:"
   ],
   "cell_type": "markdown",
   "metadata": {}
  },
  {
   "cell_type": "code",
   "execution_count": 25,
   "metadata": {},
   "outputs": [
    {
     "output_type": "execute_result",
     "data": {
      "text/plain": [
       "                                    okrug          X          Y\n",
       "0    Юго-Восточный административный округ  37.850588  55.685852\n",
       "1                                   Южный  37.657122  55.713902\n",
       "2      Центральный административный округ  37.625878  55.734420\n",
       "3            Южный административный округ  37.654086  55.726615\n",
       "4            Южный административный округ  37.695225  55.688223\n",
       "..                                    ...        ...        ...\n",
       "280    Центральный административный округ  37.681650  55.743620\n",
       "281    Центральный административный округ  37.684059  55.736391\n",
       "282    Центральный административный округ  37.684201  55.736755\n",
       "283      Восточный административный округ  37.816595  55.789968\n",
       "284      Восточный административный округ  37.772527  55.754420\n",
       "\n",
       "[285 rows x 3 columns]"
      ],
      "text/html": "<div>\n<style scoped>\n    .dataframe tbody tr th:only-of-type {\n        vertical-align: middle;\n    }\n\n    .dataframe tbody tr th {\n        vertical-align: top;\n    }\n\n    .dataframe thead th {\n        text-align: right;\n    }\n</style>\n<table border=\"1\" class=\"dataframe\">\n  <thead>\n    <tr style=\"text-align: right;\">\n      <th></th>\n      <th>okrug</th>\n      <th>X</th>\n      <th>Y</th>\n    </tr>\n  </thead>\n  <tbody>\n    <tr>\n      <th>0</th>\n      <td>Юго-Восточный административный округ</td>\n      <td>37.850588</td>\n      <td>55.685852</td>\n    </tr>\n    <tr>\n      <th>1</th>\n      <td>Южный</td>\n      <td>37.657122</td>\n      <td>55.713902</td>\n    </tr>\n    <tr>\n      <th>2</th>\n      <td>Центральный административный округ</td>\n      <td>37.625878</td>\n      <td>55.734420</td>\n    </tr>\n    <tr>\n      <th>3</th>\n      <td>Южный административный округ</td>\n      <td>37.654086</td>\n      <td>55.726615</td>\n    </tr>\n    <tr>\n      <th>4</th>\n      <td>Южный административный округ</td>\n      <td>37.695225</td>\n      <td>55.688223</td>\n    </tr>\n    <tr>\n      <th>...</th>\n      <td>...</td>\n      <td>...</td>\n      <td>...</td>\n    </tr>\n    <tr>\n      <th>280</th>\n      <td>Центральный административный округ</td>\n      <td>37.681650</td>\n      <td>55.743620</td>\n    </tr>\n    <tr>\n      <th>281</th>\n      <td>Центральный административный округ</td>\n      <td>37.684059</td>\n      <td>55.736391</td>\n    </tr>\n    <tr>\n      <th>282</th>\n      <td>Центральный административный округ</td>\n      <td>37.684201</td>\n      <td>55.736755</td>\n    </tr>\n    <tr>\n      <th>283</th>\n      <td>Восточный административный округ</td>\n      <td>37.816595</td>\n      <td>55.789968</td>\n    </tr>\n    <tr>\n      <th>284</th>\n      <td>Восточный административный округ</td>\n      <td>37.772527</td>\n      <td>55.754420</td>\n    </tr>\n  </tbody>\n</table>\n<p>285 rows × 3 columns</p>\n</div>"
     },
     "metadata": {},
     "execution_count": 25
    }
   ],
   "source": [
    "df[['X', 'Y']] = df[['X', 'Y']].apply(lambda x: x.str.replace(',', '.', 1)).apply(pd.to_numeric)\n",
    "df"
   ]
  },
  {
   "source": [
    "Найдем округа, зайдествованные в выборке"
   ],
   "cell_type": "markdown",
   "metadata": {}
  },
  {
   "cell_type": "code",
   "execution_count": 4,
   "metadata": {},
   "outputs": [
    {
     "output_type": "execute_result",
     "data": {
      "text/plain": [
       "{'Восточный административный округ',\n",
       " 'Западный административный округ',\n",
       " 'Зеленоградский административный округ',\n",
       " 'Северный административный округ',\n",
       " 'Северо-Восточный административный округ',\n",
       " 'Северо-Западный административный округ',\n",
       " 'Центральный административный округ',\n",
       " 'Юго-Восточный административный округ',\n",
       " 'Юго-Западный административный округ',\n",
       " 'Южный',\n",
       " 'Южный административный округ'}"
      ]
     },
     "metadata": {},
     "execution_count": 4
    }
   ],
   "source": [
    "set(df.okrug)"
   ]
  },
  {
   "source": [
    "У некоторых записей есть ошибка в метке округа - исправим."
   ],
   "cell_type": "markdown",
   "metadata": {}
  },
  {
   "cell_type": "code",
   "execution_count": 5,
   "metadata": {},
   "outputs": [],
   "source": [
    "df.loc[df.okrug == 'Южный', 'okrug'] = 'Южный административный округ'"
   ]
  },
  {
   "cell_type": "code",
   "execution_count": 6,
   "metadata": {},
   "outputs": [
    {
     "output_type": "execute_result",
     "data": {
      "text/plain": [
       "{'Восточный административный округ',\n",
       " 'Западный административный округ',\n",
       " 'Зеленоградский административный округ',\n",
       " 'Северный административный округ',\n",
       " 'Северо-Восточный административный округ',\n",
       " 'Северо-Западный административный округ',\n",
       " 'Центральный административный округ',\n",
       " 'Юго-Восточный административный округ',\n",
       " 'Юго-Западный административный округ',\n",
       " 'Южный административный округ'}"
      ]
     },
     "metadata": {},
     "execution_count": 6
    }
   ],
   "source": [
    "set(df.okrug)"
   ]
  },
  {
   "source": [
    "Ошибка исправлена\n",
    "\n",
    "Найдем и подготовим данные центров округов"
   ],
   "cell_type": "markdown",
   "metadata": {}
  },
  {
   "cell_type": "code",
   "execution_count": 7,
   "metadata": {},
   "outputs": [
    {
     "output_type": "execute_result",
     "data": {
      "text/plain": [
       "                                      full  short          X          Y\n",
       "0         Восточный административный округ    ВАО  55.775200  37.905600\n",
       "1          Западный административный округ    ЗАО  55.675600  37.232700\n",
       "2    Зеленоградский административный округ  ЗелАО  55.979100  37.200100\n",
       "3          Северный административный округ    САО  55.858734  37.322325\n",
       "4  Северо-Восточный административный округ   СВАО  55.856200  37.613800\n",
       "5   Северо-Западный административный округ   СЗАО  55.813100  37.420100\n",
       "6       Центральный административный округ    ЦАО  55.744000  37.616500\n",
       "7     Юго-Восточный административный округ   ЮВАО  55.682800  37.805300\n",
       "8      Юго-Западный административный округ   ЮЗАО  55.575600  37.544400\n",
       "9             Южный административный округ    ЮАО  55.632800  37.674900"
      ],
      "text/html": "<div>\n<style scoped>\n    .dataframe tbody tr th:only-of-type {\n        vertical-align: middle;\n    }\n\n    .dataframe tbody tr th {\n        vertical-align: top;\n    }\n\n    .dataframe thead th {\n        text-align: right;\n    }\n</style>\n<table border=\"1\" class=\"dataframe\">\n  <thead>\n    <tr style=\"text-align: right;\">\n      <th></th>\n      <th>full</th>\n      <th>short</th>\n      <th>X</th>\n      <th>Y</th>\n    </tr>\n  </thead>\n  <tbody>\n    <tr>\n      <th>0</th>\n      <td>Восточный административный округ</td>\n      <td>ВАО</td>\n      <td>55.775200</td>\n      <td>37.905600</td>\n    </tr>\n    <tr>\n      <th>1</th>\n      <td>Западный административный округ</td>\n      <td>ЗАО</td>\n      <td>55.675600</td>\n      <td>37.232700</td>\n    </tr>\n    <tr>\n      <th>2</th>\n      <td>Зеленоградский административный округ</td>\n      <td>ЗелАО</td>\n      <td>55.979100</td>\n      <td>37.200100</td>\n    </tr>\n    <tr>\n      <th>3</th>\n      <td>Северный административный округ</td>\n      <td>САО</td>\n      <td>55.858734</td>\n      <td>37.322325</td>\n    </tr>\n    <tr>\n      <th>4</th>\n      <td>Северо-Восточный административный округ</td>\n      <td>СВАО</td>\n      <td>55.856200</td>\n      <td>37.613800</td>\n    </tr>\n    <tr>\n      <th>5</th>\n      <td>Северо-Западный административный округ</td>\n      <td>СЗАО</td>\n      <td>55.813100</td>\n      <td>37.420100</td>\n    </tr>\n    <tr>\n      <th>6</th>\n      <td>Центральный административный округ</td>\n      <td>ЦАО</td>\n      <td>55.744000</td>\n      <td>37.616500</td>\n    </tr>\n    <tr>\n      <th>7</th>\n      <td>Юго-Восточный административный округ</td>\n      <td>ЮВАО</td>\n      <td>55.682800</td>\n      <td>37.805300</td>\n    </tr>\n    <tr>\n      <th>8</th>\n      <td>Юго-Западный административный округ</td>\n      <td>ЮЗАО</td>\n      <td>55.575600</td>\n      <td>37.544400</td>\n    </tr>\n    <tr>\n      <th>9</th>\n      <td>Южный административный округ</td>\n      <td>ЮАО</td>\n      <td>55.632800</td>\n      <td>37.674900</td>\n    </tr>\n  </tbody>\n</table>\n</div>"
     },
     "metadata": {},
     "execution_count": 7
    }
   ],
   "source": [
    "# Данные по округам с википедии и гугл-карт (скорее всего являются центром массы, но не фактическим центром)\n",
    "data = [['Восточный административный округ', 'ВАО', 55.7752, 37.9056],\n",
    "        ['Западный административный округ', 'ЗАО', 55.6756, 37.2327],\n",
    "        ['Зеленоградский административный округ', 'ЗелАО', 55.9791, 37.2001],\n",
    "        ['Северный административный округ', 'САО', 55.8587345, 37.3223247],\n",
    "        ['Северо-Восточный административный округ', 'СВАО', 55.8562, 37.6138],\n",
    "        ['Северо-Западный административный округ', 'СЗАО', 55.8131, 37.4201],\n",
    "        ['Центральный административный округ', 'ЦАО', 55.744, 37.6165],\n",
    "        ['Юго-Восточный административный округ', 'ЮВАО', 55.6828, 37.8053],\n",
    "        ['Юго-Западный административный округ', 'ЮЗАО', 55.5756, 37.5444],\n",
    "        ['Южный административный округ', 'ЮАО', 55.6328, 37.6749]]\n",
    "\n",
    "reference = pd.DataFrame(data, columns=['full', 'short', 'X', 'Y'])\n",
    "reference"
   ]
  }
 ]
}