{
 "metadata": {
  "language_info": {
   "codemirror_mode": {
    "name": "ipython",
    "version": 3
   },
   "file_extension": ".py",
   "mimetype": "text/x-python",
   "name": "python",
   "nbconvert_exporter": "python",
   "pygments_lexer": "ipython3",
   "version": "3.8.0"
  },
  "orig_nbformat": 2,
  "kernelspec": {
   "name": "python380jvsc74a57bd0c7c45d3b6503cec90a3dd7c710bab375e5dca1f1afa63155a95467609e853a2c",
   "display_name": "Python 3.8.0 64-bit ('ITIS-Q33kRsuk': pipenv)"
  },
  "metadata": {
   "interpreter": {
    "hash": "c7c45d3b6503cec90a3dd7c710bab375e5dca1f1afa63155a95467609e853a2c"
   }
  }
 },
 "nbformat": 4,
 "nbformat_minor": 2,
 "cells": [
  {
   "source": [
    "# Лабораторная работа No 9\n",
    "## Алгоритмы кластерного анализа данных"
   ],
   "cell_type": "markdown",
   "metadata": {}
  },
  {
   "cell_type": "code",
   "execution_count": 1,
   "metadata": {},
   "outputs": [],
   "source": [
    "import pandas as pd\n",
    "\n",
    "# pd.set_option('display.max_rows', None)"
   ]
  },
  {
   "cell_type": "code",
   "execution_count": 2,
   "metadata": {},
   "outputs": [
    {
     "output_type": "display_data",
     "data": {
      "text/plain": "                                    okrug          X          Y\n0    Юго-Восточный административный округ  37,850588  55,685852\n1                                   Южный  37,657122  55,713902\n2      Центральный административный округ  37,625878   55,73442\n3            Южный административный округ  37,654086  55,726615\n4            Южный административный округ  37,695225  55,688223\n..                                    ...        ...        ...\n280    Центральный административный округ   37,68165   55,74362\n281    Центральный административный округ  37,684059  55,736391\n282    Центральный административный округ  37,684201  55,736755\n283      Восточный административный округ  37,816595  55,789968\n284      Восточный административный округ  37,772527   55,75442\n\n[285 rows x 3 columns]",
      "text/html": "<div>\n<style scoped>\n    .dataframe tbody tr th:only-of-type {\n        vertical-align: middle;\n    }\n\n    .dataframe tbody tr th {\n        vertical-align: top;\n    }\n\n    .dataframe thead th {\n        text-align: right;\n    }\n</style>\n<table border=\"1\" class=\"dataframe\">\n  <thead>\n    <tr style=\"text-align: right;\">\n      <th></th>\n      <th>okrug</th>\n      <th>X</th>\n      <th>Y</th>\n    </tr>\n  </thead>\n  <tbody>\n    <tr>\n      <th>0</th>\n      <td>Юго-Восточный административный округ</td>\n      <td>37,850588</td>\n      <td>55,685852</td>\n    </tr>\n    <tr>\n      <th>1</th>\n      <td>Южный</td>\n      <td>37,657122</td>\n      <td>55,713902</td>\n    </tr>\n    <tr>\n      <th>2</th>\n      <td>Центральный административный округ</td>\n      <td>37,625878</td>\n      <td>55,73442</td>\n    </tr>\n    <tr>\n      <th>3</th>\n      <td>Южный административный округ</td>\n      <td>37,654086</td>\n      <td>55,726615</td>\n    </tr>\n    <tr>\n      <th>4</th>\n      <td>Южный административный округ</td>\n      <td>37,695225</td>\n      <td>55,688223</td>\n    </tr>\n    <tr>\n      <th>...</th>\n      <td>...</td>\n      <td>...</td>\n      <td>...</td>\n    </tr>\n    <tr>\n      <th>280</th>\n      <td>Центральный административный округ</td>\n      <td>37,68165</td>\n      <td>55,74362</td>\n    </tr>\n    <tr>\n      <th>281</th>\n      <td>Центральный административный округ</td>\n      <td>37,684059</td>\n      <td>55,736391</td>\n    </tr>\n    <tr>\n      <th>282</th>\n      <td>Центральный административный округ</td>\n      <td>37,684201</td>\n      <td>55,736755</td>\n    </tr>\n    <tr>\n      <th>283</th>\n      <td>Восточный административный округ</td>\n      <td>37,816595</td>\n      <td>55,789968</td>\n    </tr>\n    <tr>\n      <th>284</th>\n      <td>Восточный административный округ</td>\n      <td>37,772527</td>\n      <td>55,75442</td>\n    </tr>\n  </tbody>\n</table>\n<p>285 rows × 3 columns</p>\n</div>"
     },
     "metadata": {}
    }
   ],
   "source": [
    "df = pd.read_csv('colleges.csv')\n",
    "df = df[['okrug', 'X', 'Y']]\n",
    "display(df)"
   ]
  },
  {
   "cell_type": "code",
   "execution_count": 3,
   "metadata": {},
   "outputs": [
    {
     "output_type": "execute_result",
     "data": {
      "text/plain": [
       "{'Восточный административный округ',\n",
       " 'Западный административный округ',\n",
       " 'Зеленоградский административный округ',\n",
       " 'Северный административный округ',\n",
       " 'Северо-Восточный административный округ',\n",
       " 'Северо-Западный административный округ',\n",
       " 'Центральный административный округ',\n",
       " 'Юго-Восточный административный округ',\n",
       " 'Юго-Западный административный округ',\n",
       " 'Южный',\n",
       " 'Южный административный округ'}"
      ]
     },
     "metadata": {},
     "execution_count": 3
    }
   ],
   "source": [
    "set(df.okrug)"
   ]
  },
  {
   "cell_type": "code",
   "execution_count": 4,
   "metadata": {},
   "outputs": [],
   "source": [
    "df.loc[df.okrug == 'Южный', 'okrug'] = 'Южный административный округ'"
   ]
  },
  {
   "cell_type": "code",
   "execution_count": 5,
   "metadata": {},
   "outputs": [
    {
     "output_type": "execute_result",
     "data": {
      "text/plain": [
       "{'Восточный административный округ',\n",
       " 'Западный административный округ',\n",
       " 'Зеленоградский административный округ',\n",
       " 'Северный административный округ',\n",
       " 'Северо-Восточный административный округ',\n",
       " 'Северо-Западный административный округ',\n",
       " 'Центральный административный округ',\n",
       " 'Юго-Восточный административный округ',\n",
       " 'Юго-Западный административный округ',\n",
       " 'Южный административный округ'}"
      ]
     },
     "metadata": {},
     "execution_count": 5
    }
   ],
   "source": [
    "set(df.okrug)"
   ]
  },
  {
   "cell_type": "code",
   "execution_count": null,
   "metadata": {},
   "outputs": [],
   "source": []
  }
 ]
}